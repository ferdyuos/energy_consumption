{
 "cells": [
  {
   "cell_type": "markdown",
   "metadata": {},
   "source": [
    "# DATA PREPARATION AND ANALYZING OF ENERGY CONSUMPTION\n",
    "\n",
    "# GROUP 14\n",
    "\n",
    "# STUDENT ID'S: 21066354 , 21066913 , 21046749 ,  21061342\n",
    "\n",
    "\n"
   ]
  },
  {
   "cell_type": "code",
   "execution_count": 1,
   "metadata": {},
   "outputs": [
    {
     "name": "stderr",
     "output_type": "stream",
     "text": [
      "WARNING: An illegal reflective access operation has occurred\n",
      "WARNING: Illegal reflective access by org.apache.spark.unsafe.Platform (file:/Users/ferdyuos/opt/anaconda3/lib/python3.8/site-packages/pyspark/jars/spark-unsafe_2.12-3.2.1.jar) to constructor java.nio.DirectByteBuffer(long,int)\n",
      "WARNING: Please consider reporting this to the maintainers of org.apache.spark.unsafe.Platform\n",
      "WARNING: Use --illegal-access=warn to enable warnings of further illegal reflective access operations\n",
      "WARNING: All illegal access operations will be denied in a future release\n",
      "Using Spark's default log4j profile: org/apache/spark/log4j-defaults.properties\n",
      "Setting default log level to \"WARN\".\n",
      "To adjust logging level use sc.setLogLevel(newLevel). For SparkR, use setLogLevel(newLevel).\n",
      "22/05/03 10:50:04 WARN NativeCodeLoader: Unable to load native-hadoop library for your platform... using builtin-java classes where applicable\n"
     ]
    }
   ],
   "source": [
    "# IMPORTING AND START A SPARK SESSION\n",
    "from pyspark.sql import SparkSession\n",
    "spark = SparkSession \\\n",
    "    .builder \\\n",
    "    .appName('COVID-19 Data') \\\n",
    "    .getOrCreate()"
   ]
  },
  {
   "cell_type": "code",
   "execution_count": 2,
   "metadata": {},
   "outputs": [],
   "source": [
    "# READ DATA COLLECTED\n",
    "d1 = (spark.read\n",
    "          .format(\"csv\")\n",
    "          .options(delimiter=\";\", header=True)\n",
    "          .load(\"hourly-meter-data.csv\"))"
   ]
  },
  {
   "cell_type": "code",
   "execution_count": 3,
   "outputs": [
    {
     "name": "stderr",
     "output_type": "stream",
     "text": [
      "                                                                                \r"
     ]
    },
    {
     "data": {
      "text/plain": "              Meter ID                       Date Energy\n0        2200015266516  2020-03-10T18:00:00+00:00  1.454\n1        2200015266516  2020-03-11T15:00:00+00:00  2.254\n2        2200015266516  2020-03-12T01:00:00+00:00  0.525\n3        2200015266516  2020-03-13T07:00:00+00:00  0.587\n4        2200015266516  2020-03-13T08:00:00+00:00  0.594\n...                ...                        ...    ...\n3751305  2200042997094  2020-02-15T02:00:00+00:00  0.973\n3751306  2200042997094  2020-02-15T10:00:00+00:00  0.464\n3751307  2200042997094  2020-02-15T15:00:00+00:00  3.884\n3751308  2200042997094  2020-02-15T17:00:00+00:00  2.433\n3751309  2200042997094  2020-02-15T18:00:00+00:00  1.662\n\n[3751310 rows x 3 columns]",
      "text/html": "<div>\n<style scoped>\n    .dataframe tbody tr th:only-of-type {\n        vertical-align: middle;\n    }\n\n    .dataframe tbody tr th {\n        vertical-align: top;\n    }\n\n    .dataframe thead th {\n        text-align: right;\n    }\n</style>\n<table border=\"1\" class=\"dataframe\">\n  <thead>\n    <tr style=\"text-align: right;\">\n      <th></th>\n      <th>Meter ID</th>\n      <th>Date</th>\n      <th>Energy</th>\n    </tr>\n  </thead>\n  <tbody>\n    <tr>\n      <th>0</th>\n      <td>2200015266516</td>\n      <td>2020-03-10T18:00:00+00:00</td>\n      <td>1.454</td>\n    </tr>\n    <tr>\n      <th>1</th>\n      <td>2200015266516</td>\n      <td>2020-03-11T15:00:00+00:00</td>\n      <td>2.254</td>\n    </tr>\n    <tr>\n      <th>2</th>\n      <td>2200015266516</td>\n      <td>2020-03-12T01:00:00+00:00</td>\n      <td>0.525</td>\n    </tr>\n    <tr>\n      <th>3</th>\n      <td>2200015266516</td>\n      <td>2020-03-13T07:00:00+00:00</td>\n      <td>0.587</td>\n    </tr>\n    <tr>\n      <th>4</th>\n      <td>2200015266516</td>\n      <td>2020-03-13T08:00:00+00:00</td>\n      <td>0.594</td>\n    </tr>\n    <tr>\n      <th>...</th>\n      <td>...</td>\n      <td>...</td>\n      <td>...</td>\n    </tr>\n    <tr>\n      <th>3751305</th>\n      <td>2200042997094</td>\n      <td>2020-02-15T02:00:00+00:00</td>\n      <td>0.973</td>\n    </tr>\n    <tr>\n      <th>3751306</th>\n      <td>2200042997094</td>\n      <td>2020-02-15T10:00:00+00:00</td>\n      <td>0.464</td>\n    </tr>\n    <tr>\n      <th>3751307</th>\n      <td>2200042997094</td>\n      <td>2020-02-15T15:00:00+00:00</td>\n      <td>3.884</td>\n    </tr>\n    <tr>\n      <th>3751308</th>\n      <td>2200042997094</td>\n      <td>2020-02-15T17:00:00+00:00</td>\n      <td>2.433</td>\n    </tr>\n    <tr>\n      <th>3751309</th>\n      <td>2200042997094</td>\n      <td>2020-02-15T18:00:00+00:00</td>\n      <td>1.662</td>\n    </tr>\n  </tbody>\n</table>\n<p>3751310 rows × 3 columns</p>\n</div>"
     },
     "execution_count": 3,
     "metadata": {},
     "output_type": "execute_result"
    }
   ],
   "source": [
    "# convert dataframe to pandas dataframe\n",
    "d1.toPandas()"
   ],
   "metadata": {
    "collapsed": false,
    "pycharm": {
     "name": "#%%\n"
    }
   }
  },
  {
   "cell_type": "code",
   "execution_count": 7,
   "outputs": [
    {
     "name": "stderr",
     "output_type": "stream",
     "text": [
      "                                                                                \r"
     ]
    },
    {
     "data": {
      "text/plain": "  summary              Meter ID                       Date              Energy\n0   count               3654917                    3668310             3668310\n1    mean  2.203377992665442E12                       None  4.6128885137845295\n2  stddev  3.442973160422781E10                       None   19.78338179905637\n3     min         2200015161200  2019-08-17T01:00:00+01:00                 0.0\n4     max         2600000819868  2021-08-16T01:00:00+01:00               99.99",
      "text/html": "<div>\n<style scoped>\n    .dataframe tbody tr th:only-of-type {\n        vertical-align: middle;\n    }\n\n    .dataframe tbody tr th {\n        vertical-align: top;\n    }\n\n    .dataframe thead th {\n        text-align: right;\n    }\n</style>\n<table border=\"1\" class=\"dataframe\">\n  <thead>\n    <tr style=\"text-align: right;\">\n      <th></th>\n      <th>summary</th>\n      <th>Meter ID</th>\n      <th>Date</th>\n      <th>Energy</th>\n    </tr>\n  </thead>\n  <tbody>\n    <tr>\n      <th>0</th>\n      <td>count</td>\n      <td>3654917</td>\n      <td>3668310</td>\n      <td>3668310</td>\n    </tr>\n    <tr>\n      <th>1</th>\n      <td>mean</td>\n      <td>2.203377992665442E12</td>\n      <td>None</td>\n      <td>4.6128885137845295</td>\n    </tr>\n    <tr>\n      <th>2</th>\n      <td>stddev</td>\n      <td>3.442973160422781E10</td>\n      <td>None</td>\n      <td>19.78338179905637</td>\n    </tr>\n    <tr>\n      <th>3</th>\n      <td>min</td>\n      <td>2200015161200</td>\n      <td>2019-08-17T01:00:00+01:00</td>\n      <td>0.0</td>\n    </tr>\n    <tr>\n      <th>4</th>\n      <td>max</td>\n      <td>2600000819868</td>\n      <td>2021-08-16T01:00:00+01:00</td>\n      <td>99.99</td>\n    </tr>\n  </tbody>\n</table>\n</div>"
     },
     "execution_count": 7,
     "metadata": {},
     "output_type": "execute_result"
    }
   ],
   "source": [
    "#show statistics as a pandas dataframe\n",
    "d1.describe().toPandas()"
   ],
   "metadata": {
    "collapsed": false,
    "pycharm": {
     "name": "#%%\n"
    }
   }
  },
  {
   "cell_type": "code",
   "execution_count": 8,
   "outputs": [
    {
     "data": {
      "text/plain": "[('Meter ID', 'string'), ('Date', 'string'), ('Energy', 'string')]"
     },
     "execution_count": 8,
     "metadata": {},
     "output_type": "execute_result"
    }
   ],
   "source": [
    "# check data types\n",
    "d1.dtypes"
   ],
   "metadata": {
    "collapsed": false,
    "pycharm": {
     "name": "#%%\n"
    }
   }
  },
  {
   "cell_type": "code",
   "execution_count": 9,
   "outputs": [
    {
     "data": {
      "text/plain": "[('Meter ID', 'string'), ('Date', 'date'), ('Energy', 'float')]"
     },
     "execution_count": 9,
     "metadata": {},
     "output_type": "execute_result"
    }
   ],
   "source": [
    "# format data\n",
    "from pyspark.sql.types import StringType,DateType,IntegerType,FloatType,DecimalType\n",
    "from pyspark.sql.functions import col\n",
    "\n",
    "d2 = d1.withColumn(\"Meter ID\",col(\"Meter ID\").cast(StringType())).withColumn(\"Date\",col(\"Date\").cast(DateType())) .withColumn(\"Energy\",col(\"Energy\").cast(FloatType()))\n",
    "d2.dtypes"
   ],
   "metadata": {
    "collapsed": false,
    "pycharm": {
     "name": "#%%\n"
    }
   }
  },
  {
   "cell_type": "code",
   "execution_count": 43,
   "outputs": [
    {
     "name": "stderr",
     "output_type": "stream",
     "text": [
      "                                                                                \r"
     ]
    },
    {
     "data": {
      "text/plain": "              Meter ID        Date  Energy\n0        2200015266516  2020-03-10   1.454\n1        2200015266516  2020-03-11   2.254\n2        2200015266516  2020-03-12   0.525\n3        2200015266516  2020-03-13   0.587\n4        2200015266516  2020-03-13   0.594\n...                ...         ...     ...\n3751305  2200042997094  2020-02-15   0.973\n3751306  2200042997094  2020-02-15   0.464\n3751307  2200042997094  2020-02-15   3.884\n3751308  2200042997094  2020-02-15   2.433\n3751309  2200042997094  2020-02-15   1.662\n\n[3751310 rows x 3 columns]",
      "text/html": "<div>\n<style scoped>\n    .dataframe tbody tr th:only-of-type {\n        vertical-align: middle;\n    }\n\n    .dataframe tbody tr th {\n        vertical-align: top;\n    }\n\n    .dataframe thead th {\n        text-align: right;\n    }\n</style>\n<table border=\"1\" class=\"dataframe\">\n  <thead>\n    <tr style=\"text-align: right;\">\n      <th></th>\n      <th>Meter ID</th>\n      <th>Date</th>\n      <th>Energy</th>\n    </tr>\n  </thead>\n  <tbody>\n    <tr>\n      <th>0</th>\n      <td>2200015266516</td>\n      <td>2020-03-10</td>\n      <td>1.454</td>\n    </tr>\n    <tr>\n      <th>1</th>\n      <td>2200015266516</td>\n      <td>2020-03-11</td>\n      <td>2.254</td>\n    </tr>\n    <tr>\n      <th>2</th>\n      <td>2200015266516</td>\n      <td>2020-03-12</td>\n      <td>0.525</td>\n    </tr>\n    <tr>\n      <th>3</th>\n      <td>2200015266516</td>\n      <td>2020-03-13</td>\n      <td>0.587</td>\n    </tr>\n    <tr>\n      <th>4</th>\n      <td>2200015266516</td>\n      <td>2020-03-13</td>\n      <td>0.594</td>\n    </tr>\n    <tr>\n      <th>...</th>\n      <td>...</td>\n      <td>...</td>\n      <td>...</td>\n    </tr>\n    <tr>\n      <th>3751305</th>\n      <td>2200042997094</td>\n      <td>2020-02-15</td>\n      <td>0.973</td>\n    </tr>\n    <tr>\n      <th>3751306</th>\n      <td>2200042997094</td>\n      <td>2020-02-15</td>\n      <td>0.464</td>\n    </tr>\n    <tr>\n      <th>3751307</th>\n      <td>2200042997094</td>\n      <td>2020-02-15</td>\n      <td>3.884</td>\n    </tr>\n    <tr>\n      <th>3751308</th>\n      <td>2200042997094</td>\n      <td>2020-02-15</td>\n      <td>2.433</td>\n    </tr>\n    <tr>\n      <th>3751309</th>\n      <td>2200042997094</td>\n      <td>2020-02-15</td>\n      <td>1.662</td>\n    </tr>\n  </tbody>\n</table>\n<p>3751310 rows × 3 columns</p>\n</div>"
     },
     "execution_count": 43,
     "metadata": {},
     "output_type": "execute_result"
    }
   ],
   "source": [
    "d2.toPandas()"
   ],
   "metadata": {
    "collapsed": false,
    "pycharm": {
     "name": "#%%\n"
    }
   }
  },
  {
   "cell_type": "code",
   "execution_count": 10,
   "outputs": [
    {
     "name": "stderr",
     "output_type": "stream",
     "text": [
      "                                                                                \r"
     ]
    },
    {
     "name": "stdout",
     "output_type": "stream",
     "text": [
      "+-------+------------------+\n",
      "|summary|            Energy|\n",
      "+-------+------------------+\n",
      "|  count|           3668310|\n",
      "|   mean| 4.612888514752225|\n",
      "| stddev|19.783381805842414|\n",
      "|    min|               0.0|\n",
      "|    max|            923.62|\n",
      "+-------+------------------+\n",
      "\n"
     ]
    }
   ],
   "source": [
    "d2.describe(['Energy']).show()"
   ],
   "metadata": {
    "collapsed": false,
    "pycharm": {
     "name": "#%%\n"
    }
   }
  },
  {
   "cell_type": "code",
   "execution_count": 17,
   "outputs": [
    {
     "name": "stderr",
     "output_type": "stream",
     "text": [
      "[Stage 14:>                                                         (0 + 8) / 8]\r"
     ]
    },
    {
     "name": "stdout",
     "output_type": "stream",
     "text": [
      "+--------+-----+------+\n",
      "|Meter ID| Date|Energy|\n",
      "+--------+-----+------+\n",
      "|   96393|83000| 83000|\n",
      "+--------+-----+------+\n",
      "\n"
     ]
    },
    {
     "name": "stderr",
     "output_type": "stream",
     "text": [
      "                                                                                \r"
     ]
    }
   ],
   "source": [
    "# check where null values exist\n",
    "from pyspark.sql.functions import isnull, when, count\n",
    "d2.select([count(when(isnull(c), c)).alias(c) for c in d2.columns]).show()"
   ],
   "metadata": {
    "collapsed": false,
    "pycharm": {
     "name": "#%%\n"
    }
   }
  },
  {
   "cell_type": "code",
   "execution_count": 83,
   "outputs": [],
   "source": [
    "# remove null values\n",
    "d3 = d2.dropna(how='any')"
   ],
   "metadata": {
    "collapsed": false,
    "pycharm": {
     "name": "#%%\n"
    }
   }
  },
  {
   "cell_type": "code",
   "execution_count": 84,
   "outputs": [
    {
     "name": "stderr",
     "output_type": "stream",
     "text": [
      "                                                                                \r"
     ]
    },
    {
     "data": {
      "text/plain": "  summary              Meter ID              Energy\n0   count               3654917             3654917\n1    mean  2.203377992665442E12   4.590153622511495\n2  stddev  3.442973160422781E10  19.789064265038245\n3     min         2200015161200                 0.0\n4     max         2600000819868              923.62",
      "text/html": "<div>\n<style scoped>\n    .dataframe tbody tr th:only-of-type {\n        vertical-align: middle;\n    }\n\n    .dataframe tbody tr th {\n        vertical-align: top;\n    }\n\n    .dataframe thead th {\n        text-align: right;\n    }\n</style>\n<table border=\"1\" class=\"dataframe\">\n  <thead>\n    <tr style=\"text-align: right;\">\n      <th></th>\n      <th>summary</th>\n      <th>Meter ID</th>\n      <th>Energy</th>\n    </tr>\n  </thead>\n  <tbody>\n    <tr>\n      <th>0</th>\n      <td>count</td>\n      <td>3654917</td>\n      <td>3654917</td>\n    </tr>\n    <tr>\n      <th>1</th>\n      <td>mean</td>\n      <td>2.203377992665442E12</td>\n      <td>4.590153622511495</td>\n    </tr>\n    <tr>\n      <th>2</th>\n      <td>stddev</td>\n      <td>3.442973160422781E10</td>\n      <td>19.789064265038245</td>\n    </tr>\n    <tr>\n      <th>3</th>\n      <td>min</td>\n      <td>2200015161200</td>\n      <td>0.0</td>\n    </tr>\n    <tr>\n      <th>4</th>\n      <td>max</td>\n      <td>2600000819868</td>\n      <td>923.62</td>\n    </tr>\n  </tbody>\n</table>\n</div>"
     },
     "execution_count": 84,
     "metadata": {},
     "output_type": "execute_result"
    }
   ],
   "source": [
    "d3.describe().toPandas()"
   ],
   "metadata": {
    "collapsed": false,
    "pycharm": {
     "name": "#%%\n"
    }
   }
  },
  {
   "cell_type": "code",
   "execution_count": 27,
   "outputs": [],
   "source": [
    "#  creates sql table\n",
    "d3.createOrReplaceTempView(\"meter_table\")"
   ],
   "metadata": {
    "collapsed": false,
    "pycharm": {
     "name": "#%%\n"
    }
   }
  },
  {
   "cell_type": "code",
   "execution_count": 29,
   "outputs": [
    {
     "name": "stdout",
     "output_type": "stream",
     "text": [
      "+-------------+----------+------+\n",
      "|     Meter ID|      Date|Energy|\n",
      "+-------------+----------+------+\n",
      "|2200015266516|2020-03-10| 1.454|\n",
      "|2200015266516|2020-03-11| 2.254|\n",
      "|2200015266516|2020-03-12| 0.525|\n",
      "|2200015266516|2020-03-13| 0.587|\n",
      "|2200015266516|2020-03-13| 0.594|\n",
      "|2200015266516|2020-03-13| 1.165|\n",
      "|2200015266516|2020-03-13| 2.067|\n",
      "|2200015266516|2020-03-13| 0.515|\n",
      "|2200015266516|2020-03-13| 0.604|\n",
      "|2200015266516|2020-03-14| 0.578|\n",
      "|2200015266516|2020-03-14| 0.515|\n",
      "|2200015266516|2020-03-15| 0.516|\n",
      "|2200015266516|2020-03-15| 0.573|\n",
      "|2200015266516|2020-03-15| 0.672|\n",
      "|2200015266516|2020-03-16| 0.655|\n",
      "|2200015266516|2020-03-16| 0.516|\n",
      "|2200015266516|2020-03-16| 0.499|\n",
      "|2200015266516|2020-03-17| 2.001|\n",
      "|2200015266516|2020-03-17| 0.655|\n",
      "|2200015266516|2020-03-17| 0.522|\n",
      "+-------------+----------+------+\n",
      "only showing top 20 rows\n",
      "\n"
     ]
    }
   ],
   "source": [
    "# query to check how many rows exists\n",
    "spark.sql(\"SELECT * from meter_table\").show()"
   ],
   "metadata": {
    "collapsed": false,
    "pycharm": {
     "name": "#%%\n"
    }
   }
  },
  {
   "cell_type": "code",
   "execution_count": 40,
   "outputs": [
    {
     "name": "stderr",
     "output_type": "stream",
     "text": [
      "[Stage 36:>                                                         (0 + 8) / 8]\r"
     ]
    },
    {
     "name": "stdout",
     "output_type": "stream",
     "text": [
      "+-------------+------+\n",
      "|     Meter ID|Energy|\n",
      "+-------------+------+\n",
      "|2200030347078|923.62|\n",
      "|2200030347078|923.53|\n",
      "|2200030347078| 874.2|\n",
      "|2200030347078|856.35|\n",
      "|2200030347078|745.61|\n",
      "|2200030347078|724.75|\n",
      "|2200030347078|701.67|\n",
      "|2200030347078|697.11|\n",
      "|2200030347078| 694.2|\n",
      "|2200030347078|686.05|\n",
      "|2200030347078|684.44|\n",
      "|2200030347078|684.39|\n",
      "|2200030347078|683.98|\n",
      "|2200030347078|683.57|\n",
      "|2200030347078|683.31|\n",
      "|2200030347078|683.07|\n",
      "|2200030347078|683.05|\n",
      "|2200030347078|682.59|\n",
      "|2200030347078|682.21|\n",
      "|2200030347078|680.29|\n",
      "+-------------+------+\n",
      "\n"
     ]
    },
    {
     "name": "stderr",
     "output_type": "stream",
     "text": [
      "                                                                                \r"
     ]
    }
   ],
   "source": [
    "spark.sql(\"SELECT `Meter ID` , `Energy` FROM meter_table ORDER BY `Energy`  DESC LIMIT 20\").show()"
   ],
   "metadata": {
    "collapsed": false,
    "pycharm": {
     "name": "#%%\n"
    }
   }
  },
  {
   "cell_type": "code",
   "execution_count": 45,
   "outputs": [
    {
     "name": "stderr",
     "output_type": "stream",
     "text": [
      "[Stage 40:=======>                                                  (1 + 7) / 8]\r"
     ]
    },
    {
     "name": "stdout",
     "output_type": "stream",
     "text": [
      "+-------------+------+\n",
      "|     Meter ID|Energy|\n",
      "+-------------+------+\n",
      "|2200017137557| 0.001|\n",
      "|2200016617756| 0.001|\n",
      "|2200016624433| 0.001|\n",
      "|2200016617756| 0.001|\n",
      "|2200016624433| 0.001|\n",
      "|2200016617756| 0.001|\n",
      "|2200016624433| 0.001|\n",
      "|2200016617756| 0.001|\n",
      "|2200016624433| 0.001|\n",
      "|2200016617756| 0.001|\n",
      "|2200016624433| 0.001|\n",
      "|2200017137557| 0.001|\n",
      "|2200016624433| 0.001|\n",
      "|2200016617756| 0.001|\n",
      "|2200016617756| 0.001|\n",
      "|2200016617756| 0.001|\n",
      "|2200016617756| 0.001|\n",
      "|2200016617756| 0.001|\n",
      "|2200016617756| 0.001|\n",
      "|2200016617756| 0.001|\n",
      "+-------------+------+\n",
      "\n"
     ]
    },
    {
     "name": "stderr",
     "output_type": "stream",
     "text": [
      "                                                                                \r"
     ]
    }
   ],
   "source": [
    "spark.sql(\"SELECT `Meter ID` , `Energy`  FROM meter_table WHERE `Energy` > 0 ORDER BY `Energy`  ASC LIMIT 20\").show()"
   ],
   "metadata": {
    "collapsed": false,
    "pycharm": {
     "name": "#%%\n"
    }
   }
  },
  {
   "cell_type": "code",
   "execution_count": 70,
   "outputs": [
    {
     "name": "stderr",
     "output_type": "stream",
     "text": [
      "[Stage 110:===================================>                     (5 + 3) / 8]\r"
     ]
    },
    {
     "name": "stdout",
     "output_type": "stream",
     "text": [
      "+-------------+------------------+\n",
      "|     Meter ID|       sum(Energy)|\n",
      "+-------------+------------------+\n",
      "|2200030347078| 3074599.910917282|\n",
      "|2200030347538|  2897821.80037117|\n",
      "|2200041760597| 915564.4998267442|\n",
      "|2200030363200| 750768.3800674453|\n",
      "|2200030349961| 671088.3099451065|\n",
      "|2200030025298| 462799.6100320816|\n",
      "|2600000819868|416578.64009932615|\n",
      "|2200041594742|371196.75007486343|\n",
      "|2200041081741|  312806.149998188|\n",
      "|2200030002389|304136.78010495193|\n",
      "+-------------+------------------+\n",
      "\n"
     ]
    },
    {
     "name": "stderr",
     "output_type": "stream",
     "text": [
      "                                                                                \r"
     ]
    }
   ],
   "source": [
    "spark.sql(\"SELECT `Meter ID`, SUM(`Energy`) FROM meter_table GROUP BY `Meter ID`  ORDER BY SUM(`Energy`)  DESC LIMIT 10\").show()"
   ],
   "metadata": {
    "collapsed": false,
    "pycharm": {
     "name": "#%%\n"
    }
   }
  },
  {
   "cell_type": "code",
   "execution_count": 74,
   "outputs": [
    {
     "name": "stderr",
     "output_type": "stream",
     "text": [
      "[Stage 122:>                                                        (0 + 8) / 8]\r"
     ]
    },
    {
     "name": "stdout",
     "output_type": "stream",
     "text": [
      "+-------------+--------------------+\n",
      "|     Meter ID|         sum(Energy)|\n",
      "+-------------+--------------------+\n",
      "|2200017137575|0.002000000094994...|\n",
      "|2200017165703|0.005000000237487...|\n",
      "|2200041408589| 0.00800000037997961|\n",
      "|2200041760602| 0.04399999976158142|\n",
      "|2200041466711| 0.13299999863374978|\n",
      "|2200017137593|  3.0619999850168824|\n",
      "|2200041623793|  3.5300000309944153|\n",
      "|2200016650692|  21.160000120988116|\n",
      "|2200040071334|  29.644000224303454|\n",
      "|2200043049270|   31.08799995633308|\n",
      "|2200032203689|   62.60499972011894|\n",
      "|2200017166089|    69.2290000631474|\n",
      "|2200042361188|  127.09000120311975|\n",
      "|2200043049304|  177.51099987328053|\n",
      "|2200042486133|   206.2990011824295|\n",
      "|2200042541556|  223.55300315259956|\n",
      "|2200017137557|  232.11399616999552|\n",
      "|2200017950043|  249.30400040815584|\n",
      "|2200040471047|  252.78299974603578|\n",
      "|2200017322828|   267.5740009302972|\n",
      "+-------------+--------------------+\n",
      "only showing top 20 rows\n",
      "\n"
     ]
    },
    {
     "name": "stderr",
     "output_type": "stream",
     "text": [
      "                                                                                \r"
     ]
    }
   ],
   "source": [
    "spark.sql(\"SELECT `Meter ID`, SUM(`Energy`) FROM meter_table WHERE `Energy` > 0 GROUP BY `Meter ID`  ORDER BY SUM(`Energy`)  ASC\").show()"
   ],
   "metadata": {
    "collapsed": false,
    "pycharm": {
     "name": "#%%\n"
    }
   }
  },
  {
   "cell_type": "code",
   "execution_count": 76,
   "outputs": [
    {
     "name": "stderr",
     "output_type": "stream",
     "text": [
      "[Stage 126:>                                                        (0 + 8) / 8]\r"
     ]
    },
    {
     "name": "stdout",
     "output_type": "stream",
     "text": [
      "+----------+-----------------+\n",
      "|year(Date)|      sum(Energy)|\n",
      "+----------+-----------------+\n",
      "|      2019|3613886.664037392|\n",
      "|      2020|8013483.508661219|\n",
      "|      2021|5149260.334829823|\n",
      "+----------+-----------------+\n",
      "\n"
     ]
    },
    {
     "name": "stderr",
     "output_type": "stream",
     "text": [
      "                                                                                \r"
     ]
    }
   ],
   "source": [
    "spark.sql(\"SELECT Year(`Date`), SUM(`Energy`) FROM meter_table GROUP BY Year(`Date`)\").show()"
   ],
   "metadata": {
    "collapsed": false,
    "pycharm": {
     "name": "#%%\n"
    }
   }
  }
 ],
 "metadata": {
  "interpreter": {
   "hash": "ffc85bc72f8044517c06feef503d3a906b4cbc46b78cfa37e181a8d457723180"
  },
  "kernelspec": {
   "display_name": "Python 3.8.8 64-bit ('base': conda)",
   "language": "python",
   "name": "python3"
  },
  "language_info": {
   "codemirror_mode": {
    "name": "ipython",
    "version": 3
   },
   "file_extension": ".py",
   "mimetype": "text/x-python",
   "name": "python",
   "nbconvert_exporter": "python",
   "pygments_lexer": "ipython3",
   "version": "3.8.8"
  }
 },
 "nbformat": 4,
 "nbformat_minor": 4
}